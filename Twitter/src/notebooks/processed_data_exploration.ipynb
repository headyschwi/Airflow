{
 "cells": [
  {
   "cell_type": "code",
   "execution_count": 1,
   "metadata": {},
   "outputs": [
    {
     "name": "stdout",
     "output_type": "stream",
     "text": [
      "24/01/05 16:47:16 WARN Utils: Your hostname, airflow resolves to a loopback address: 127.0.1.1; using 192.168.1.79 instead (on interface enp0s3)\n",
      "24/01/05 16:47:16 WARN Utils: Set SPARK_LOCAL_IP if you need to bind to another address\n"
     ]
    },
    {
     "name": "stderr",
     "output_type": "stream",
     "text": [
      "Setting default log level to \"WARN\".\n",
      "To adjust logging level use sc.setLogLevel(newLevel). For SparkR, use setLogLevel(newLevel).\n"
     ]
    },
    {
     "name": "stdout",
     "output_type": "stream",
     "text": [
      "24/01/05 16:47:22 WARN NativeCodeLoader: Unable to load native-hadoop library for your platform... using builtin-java classes where applicable\n",
      "24/01/05 16:47:34 WARN Utils: Service 'SparkUI' could not bind on port 4040. Attempting port 4041.\n"
     ]
    }
   ],
   "source": [
    "from pyspark.sql import SparkSession\n",
    "\n",
    "spark = SparkSession.builder.appName(\"Transformando os Dados Processados\").getOrCreate()"
   ]
  },
  {
   "cell_type": "code",
   "execution_count": 10,
   "metadata": {},
   "outputs": [
    {
     "name": "stdout",
     "output_type": "stream",
     "text": [
      "+---------+---------------+--------------------+---+----------+-----------+-----------+-------------+--------------------+\n",
      "|author_id|conversation_id|          created_at| id|like_count|quote_count|reply_count|retweet_count|                text|\n",
      "+---------+---------------+--------------------+---+----------+-----------+-----------+-------------+--------------------+\n",
      "|       99|             42|2024-01-03T03:25:...| 35|        10|          7|         27|           94|Tweet fictício cr...|\n",
      "|       39|             74|2024-01-03T14:38:...| 61|        88|         27|          6|           35|Um terceiro tweet...|\n",
      "|       51|             23|2024-01-03T02:22:...| 36|        48|         42|         44|           80|Tweet fictício ge...|\n",
      "|       31|             25|2024-01-03T06:26:...| 79|        58|         49|         44|           61|Outro tweet fictí...|\n",
      "|      100|             74|2024-01-03T19:32:...|  8|        86|         41|         11|           52|Tweet fictício ge...|\n",
      "+---------+---------------+--------------------+---+----------+-----------+-----------+-------------+--------------------+\n",
      "only showing top 5 rows\n",
      "\n"
     ]
    }
   ],
   "source": [
    "tweets = spark.read.json(\"/home/eder/Desktop/Airflow/Twitter/data/processed/tweets/*\")\n",
    "\n",
    "tweets.show(n=5)"
   ]
  },
  {
   "cell_type": "code",
   "execution_count": 4,
   "metadata": {},
   "outputs": [
    {
     "name": "stdout",
     "output_type": "stream",
     "text": [
      "root\n",
      " |-- author_id: string (nullable = true)\n",
      " |-- conversation_id: string (nullable = true)\n",
      " |-- created_at: string (nullable = true)\n",
      " |-- id: string (nullable = true)\n",
      " |-- like_count: long (nullable = true)\n",
      " |-- quote_count: long (nullable = true)\n",
      " |-- reply_count: long (nullable = true)\n",
      " |-- retweet_count: long (nullable = true)\n",
      " |-- text: string (nullable = true)\n",
      "\n"
     ]
    }
   ],
   "source": [
    "tweets.printSchema()"
   ]
  },
  {
   "cell_type": "code",
   "execution_count": 5,
   "metadata": {},
   "outputs": [],
   "source": [
    "from pyspark.sql import functions as f"
   ]
  },
  {
   "cell_type": "code",
   "execution_count": 9,
   "metadata": {},
   "outputs": [
    {
     "name": "stderr",
     "output_type": "stream",
     "text": [
      "[Stage 4:>                                                          (0 + 1) / 1]\r"
     ]
    },
    {
     "name": "stdout",
     "output_type": "stream",
     "text": [
      "+------------+-------+-------+--------+---------+----------+-------+\n",
      "|created_date|n_users|n_likes|n_quotes|n_replies|n_retweets|weekday|\n",
      "+------------+-------+-------+--------+---------+----------+-------+\n",
      "|  2024-01-02|     26|   1528|    1661|     1431|      1528|    Tue|\n",
      "|  2023-12-31|     39|   2873|    2403|     2378|      2662|    Sun|\n",
      "|  2023-12-29|     10|    480|     503|      478|       394|    Fri|\n",
      "|  2023-12-30|     10|    315|     480|      491|       562|    Sat|\n",
      "|  2024-01-03|     43|   3182|    3019|     2978|      3109|    Wed|\n",
      "+------------+-------+-------+--------+---------+----------+-------+\n",
      "only showing top 5 rows\n",
      "\n"
     ]
    },
    {
     "name": "stderr",
     "output_type": "stream",
     "text": [
      "                                                                                \r"
     ]
    }
   ],
   "source": [
    "tweets_conversas = tweets.groupBy(f.to_date(\"created_at\").alias(\"created_date\"))\\\n",
    "                            .agg(\n",
    "                                f.countDistinct(\"author_id\").alias(\"n_users\"),\n",
    "                                f.sum(\"like_count\").alias(\"n_likes\"),\n",
    "                                f.sum(\"quote_count\").alias(\"n_quotes\"),\n",
    "                                f.sum(\"reply_count\").alias(\"n_replies\"),\n",
    "                                f.sum(\"retweet_count\").alias(\"n_retweets\"),\n",
    "                            ).withColumn(\"weekday\", f.date_format(\"created_date\", \"E\"))\n",
    "\n",
    "tweets_conversas.show(n=5)"
   ]
  },
  {
   "cell_type": "code",
   "execution_count": null,
   "metadata": {},
   "outputs": [],
   "source": []
  }
 ],
 "metadata": {
  "kernelspec": {
   "display_name": "venv",
   "language": "python",
   "name": "python3"
  },
  "language_info": {
   "codemirror_mode": {
    "name": "ipython",
    "version": 3
   },
   "file_extension": ".py",
   "mimetype": "text/x-python",
   "name": "python",
   "nbconvert_exporter": "python",
   "pygments_lexer": "ipython3",
   "version": "3.9.18"
  }
 },
 "nbformat": 4,
 "nbformat_minor": 2
}
